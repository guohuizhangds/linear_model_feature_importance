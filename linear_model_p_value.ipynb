{
 "cells": [
  {
   "cell_type": "markdown",
   "id": "04d81431",
   "metadata": {},
   "source": [
    "https://www.statology.org/statsmodels-linear-regression-p-value/"
   ]
  },
  {
   "cell_type": "code",
   "execution_count": 38,
   "id": "ffe25bdc",
   "metadata": {},
   "outputs": [
    {
     "data": {
      "text/html": [
       "<div>\n",
       "<style scoped>\n",
       "    .dataframe tbody tr th:only-of-type {\n",
       "        vertical-align: middle;\n",
       "    }\n",
       "\n",
       "    .dataframe tbody tr th {\n",
       "        vertical-align: top;\n",
       "    }\n",
       "\n",
       "    .dataframe thead th {\n",
       "        text-align: right;\n",
       "    }\n",
       "</style>\n",
       "<table border=\"1\" class=\"dataframe\">\n",
       "  <thead>\n",
       "    <tr style=\"text-align: right;\">\n",
       "      <th></th>\n",
       "      <th>hours</th>\n",
       "      <th>exams</th>\n",
       "      <th>score</th>\n",
       "    </tr>\n",
       "  </thead>\n",
       "  <tbody>\n",
       "    <tr>\n",
       "      <th>0</th>\n",
       "      <td>1</td>\n",
       "      <td>1</td>\n",
       "      <td>76</td>\n",
       "    </tr>\n",
       "    <tr>\n",
       "      <th>1</th>\n",
       "      <td>2</td>\n",
       "      <td>3</td>\n",
       "      <td>78</td>\n",
       "    </tr>\n",
       "    <tr>\n",
       "      <th>2</th>\n",
       "      <td>2</td>\n",
       "      <td>3</td>\n",
       "      <td>85</td>\n",
       "    </tr>\n",
       "    <tr>\n",
       "      <th>3</th>\n",
       "      <td>4</td>\n",
       "      <td>5</td>\n",
       "      <td>88</td>\n",
       "    </tr>\n",
       "    <tr>\n",
       "      <th>4</th>\n",
       "      <td>2</td>\n",
       "      <td>2</td>\n",
       "      <td>72</td>\n",
       "    </tr>\n",
       "  </tbody>\n",
       "</table>\n",
       "</div>"
      ],
      "text/plain": [
       "   hours  exams  score\n",
       "0      1      1     76\n",
       "1      2      3     78\n",
       "2      2      3     85\n",
       "3      4      5     88\n",
       "4      2      2     72"
      ]
     },
     "execution_count": 38,
     "metadata": {},
     "output_type": "execute_result"
    }
   ],
   "source": [
    "import pandas as pd\n",
    "\n",
    "#create DataFrame\n",
    "df = pd.DataFrame({'hours': [1, 2, 2, 4, 2, 1, 5, 4, 2, 4, 4, 3, 6],\n",
    "                   'exams': [1, 3, 3, 5, 2, 2, 1, 1, 0, 3, 4, 3, 2],\n",
    "                   'score': [76, 78, 85, 88, 72, 69, 94, 94, 88, 92, 90, 75, 96]})\n",
    "\n",
    "df_test = pd.DataFrame({'hours': [1, 2],\n",
    "                   'exams': [1, 3],\n",
    "                   'score': [76, 78]})\n",
    "\n",
    "#view head of DataFrame\n",
    "df.head()"
   ]
  },
  {
   "cell_type": "code",
   "execution_count": 2,
   "id": "04e8cab5",
   "metadata": {},
   "outputs": [
    {
     "name": "stdout",
     "output_type": "stream",
     "text": [
      "                            OLS Regression Results                            \n",
      "==============================================================================\n",
      "Dep. Variable:                  score   R-squared:                       0.718\n",
      "Model:                            OLS   Adj. R-squared:                  0.661\n",
      "Method:                 Least Squares   F-statistic:                     12.70\n",
      "Date:                Sun, 25 Jun 2023   Prob (F-statistic):            0.00180\n",
      "Time:                        13:42:26   Log-Likelihood:                -38.618\n",
      "No. Observations:                  13   AIC:                             83.24\n",
      "Df Residuals:                      10   BIC:                             84.93\n",
      "Df Model:                           2                                         \n",
      "Covariance Type:            nonrobust                                         \n",
      "==============================================================================\n",
      "                 coef    std err          t      P>|t|      [0.025      0.975]\n",
      "------------------------------------------------------------------------------\n",
      "const         71.4048      4.001     17.847      0.000      62.490      80.319\n",
      "hours          5.1275      1.018      5.038      0.001       2.860       7.395\n",
      "exams         -1.2121      1.147     -1.057      0.315      -3.768       1.344\n",
      "==============================================================================\n",
      "Omnibus:                        1.103   Durbin-Watson:                   1.248\n",
      "Prob(Omnibus):                  0.576   Jarque-Bera (JB):                0.803\n",
      "Skew:                          -0.289   Prob(JB):                        0.669\n",
      "Kurtosis:                       1.928   Cond. No.                         11.7\n",
      "==============================================================================\n",
      "\n",
      "Notes:\n",
      "[1] Standard Errors assume that the covariance matrix of the errors is correctly specified.\n"
     ]
    },
    {
     "name": "stderr",
     "output_type": "stream",
     "text": [
      "C:\\Users\\jimwa\\AppData\\Local\\Programs\\Python\\Python310\\lib\\site-packages\\scipy\\stats\\_stats_py.py:1736: UserWarning: kurtosistest only valid for n>=20 ... continuing anyway, n=13\n",
      "  warnings.warn(\"kurtosistest only valid for n>=20 ... continuing \"\n"
     ]
    }
   ],
   "source": [
    "import statsmodels.api as sm\n",
    "\n",
    "#define predictor and response variables\n",
    "y = df['score']\n",
    "x = df[['hours', 'exams']]\n",
    "\n",
    "#add constant to predictor variables\n",
    "x = sm.add_constant(x)\n",
    "\n",
    "#fit linear regression model\n",
    "model = sm.OLS(y, x).fit()\n",
    "\n",
    "#view model summary\n",
    "print(model.summary())"
   ]
  },
  {
   "cell_type": "code",
   "execution_count": 4,
   "id": "fe71c3fc",
   "metadata": {},
   "outputs": [
    {
     "data": {
      "text/plain": [
       "0     76\n",
       "1     78\n",
       "2     85\n",
       "3     88\n",
       "4     72\n",
       "5     69\n",
       "6     94\n",
       "7     94\n",
       "8     88\n",
       "9     92\n",
       "10    90\n",
       "11    75\n",
       "12    96\n",
       "Name: score, dtype: int64"
      ]
     },
     "execution_count": 4,
     "metadata": {},
     "output_type": "execute_result"
    }
   ],
   "source": [
    "y"
   ]
  },
  {
   "cell_type": "code",
   "execution_count": 3,
   "id": "e52dd5f5",
   "metadata": {},
   "outputs": [
    {
     "data": {
      "text/plain": [
       "0     75.320242\n",
       "1     78.023565\n",
       "2     78.023565\n",
       "3     85.854381\n",
       "4     79.235650\n",
       "5     74.108157\n",
       "6     95.830211\n",
       "7     90.702719\n",
       "8     81.659819\n",
       "9     88.278550\n",
       "10    87.066465\n",
       "11    83.151057\n",
       "12    99.745619\n",
       "dtype: float64"
      ]
     },
     "execution_count": 3,
     "metadata": {},
     "output_type": "execute_result"
    }
   ],
   "source": [
    "model.predict(x)"
   ]
  },
  {
   "cell_type": "code",
   "execution_count": 18,
   "id": "ccaf862f",
   "metadata": {},
   "outputs": [
    {
     "data": {
      "text/plain": [
       "{'const': 6.514115622692619e-09,\n",
       " 'hours': 0.0005077783375870764,\n",
       " 'exams': 0.31548078548056635}"
      ]
     },
     "execution_count": 18,
     "metadata": {},
     "output_type": "execute_result"
    }
   ],
   "source": [
    "model.pvalues.to_dict()      "
   ]
  },
  {
   "cell_type": "code",
   "execution_count": 17,
   "id": "3a54fd05",
   "metadata": {},
   "outputs": [
    {
     "data": {
      "text/plain": [
       "{'const': 17.847206721307824,\n",
       " 'hours': 5.038454768754412,\n",
       " 'exams': -1.0567620251803829}"
      ]
     },
     "execution_count": 17,
     "metadata": {},
     "output_type": "execute_result"
    }
   ],
   "source": [
    "model.tvalues.to_dict()      "
   ]
  },
  {
   "cell_type": "code",
   "execution_count": 16,
   "id": "735c75c7",
   "metadata": {},
   "outputs": [
    {
     "data": {
      "text/plain": [
       "{'const': 71.4048338368581,\n",
       " 'hours': 5.127492447129899,\n",
       " 'exams': -1.2120845921450287}"
      ]
     },
     "execution_count": 16,
     "metadata": {},
     "output_type": "execute_result"
    }
   ],
   "source": [
    "model.params.to_dict()      "
   ]
  },
  {
   "cell_type": "code",
   "execution_count": 19,
   "id": "2e351f9e",
   "metadata": {},
   "outputs": [],
   "source": [
    "reg = model"
   ]
  },
  {
   "cell_type": "code",
   "execution_count": 22,
   "id": "25f82800",
   "metadata": {},
   "outputs": [
    {
     "data": {
      "text/plain": [
       "[{'feature_name': 'const',\n",
       "  'feature_coefficient': 71.4048338368581,\n",
       "  'feature_p_value': 6.514115622692619e-09,\n",
       "  'feature_t_value': 17.847206721307824},\n",
       " {'feature_name': 'hours',\n",
       "  'feature_coefficient': 5.127492447129899,\n",
       "  'feature_p_value': 0.0005077783375870764,\n",
       "  'feature_t_value': 5.038454768754412},\n",
       " {'feature_name': 'exams',\n",
       "  'feature_coefficient': -1.2120845921450287,\n",
       "  'feature_p_value': 0.31548078548056635,\n",
       "  'feature_t_value': -1.0567620251803829}]"
      ]
     },
     "execution_count": 22,
     "metadata": {},
     "output_type": "execute_result"
    }
   ],
   "source": [
    "coeff = []\n",
    "\n",
    "for k in reg.params.to_dict():\n",
    "    \n",
    "    coeff.append({\n",
    "        'feature_name':k,\n",
    "        'feature_coefficient':reg.params.to_dict()[k],\n",
    "        'feature_p_value':model.pvalues.to_dict()[k],\n",
    "        'feature_t_value':model.tvalues.to_dict()[k],\n",
    "    })\n",
    "    \n",
    "coeff"
   ]
  },
  {
   "cell_type": "code",
   "execution_count": 23,
   "id": "990d704e",
   "metadata": {},
   "outputs": [
    {
     "data": {
      "text/html": [
       "<div>\n",
       "<style scoped>\n",
       "    .dataframe tbody tr th:only-of-type {\n",
       "        vertical-align: middle;\n",
       "    }\n",
       "\n",
       "    .dataframe tbody tr th {\n",
       "        vertical-align: top;\n",
       "    }\n",
       "\n",
       "    .dataframe thead th {\n",
       "        text-align: right;\n",
       "    }\n",
       "</style>\n",
       "<table border=\"1\" class=\"dataframe\">\n",
       "  <thead>\n",
       "    <tr style=\"text-align: right;\">\n",
       "      <th></th>\n",
       "      <th>feature_name</th>\n",
       "      <th>feature_coefficient</th>\n",
       "      <th>feature_p_value</th>\n",
       "      <th>feature_t_value</th>\n",
       "    </tr>\n",
       "  </thead>\n",
       "  <tbody>\n",
       "    <tr>\n",
       "      <th>0</th>\n",
       "      <td>const</td>\n",
       "      <td>71.404834</td>\n",
       "      <td>6.514116e-09</td>\n",
       "      <td>17.847207</td>\n",
       "    </tr>\n",
       "    <tr>\n",
       "      <th>1</th>\n",
       "      <td>hours</td>\n",
       "      <td>5.127492</td>\n",
       "      <td>5.077783e-04</td>\n",
       "      <td>5.038455</td>\n",
       "    </tr>\n",
       "    <tr>\n",
       "      <th>2</th>\n",
       "      <td>exams</td>\n",
       "      <td>-1.212085</td>\n",
       "      <td>3.154808e-01</td>\n",
       "      <td>-1.056762</td>\n",
       "    </tr>\n",
       "  </tbody>\n",
       "</table>\n",
       "</div>"
      ],
      "text/plain": [
       "  feature_name  feature_coefficient  feature_p_value  feature_t_value\n",
       "0        const            71.404834     6.514116e-09        17.847207\n",
       "1        hours             5.127492     5.077783e-04         5.038455\n",
       "2        exams            -1.212085     3.154808e-01        -1.056762"
      ]
     },
     "execution_count": 23,
     "metadata": {},
     "output_type": "execute_result"
    }
   ],
   "source": [
    "pd.DataFrame(coeff)"
   ]
  },
  {
   "cell_type": "code",
   "execution_count": 31,
   "id": "7424ee63",
   "metadata": {},
   "outputs": [],
   "source": [
    "import statsmodels"
   ]
  },
  {
   "cell_type": "code",
   "execution_count": 29,
   "id": "9f93f2b9",
   "metadata": {},
   "outputs": [],
   "source": [
    "model.save('model')"
   ]
  },
  {
   "cell_type": "code",
   "execution_count": 32,
   "id": "d678c310",
   "metadata": {},
   "outputs": [],
   "source": [
    "model_loaded = statsmodels.iolib.smpickle.load_pickle('model')"
   ]
  },
  {
   "cell_type": "code",
   "execution_count": 33,
   "id": "d0b06235",
   "metadata": {},
   "outputs": [
    {
     "data": {
      "text/plain": [
       "<statsmodels.regression.linear_model.RegressionResultsWrapper at 0x26f0077c760>"
      ]
     },
     "execution_count": 33,
     "metadata": {},
     "output_type": "execute_result"
    }
   ],
   "source": [
    "model_loaded"
   ]
  },
  {
   "cell_type": "code",
   "execution_count": 34,
   "id": "a03049d3",
   "metadata": {},
   "outputs": [
    {
     "data": {
      "text/plain": [
       "0     75.320242\n",
       "1     78.023565\n",
       "2     78.023565\n",
       "3     85.854381\n",
       "4     79.235650\n",
       "5     74.108157\n",
       "6     95.830211\n",
       "7     90.702719\n",
       "8     81.659819\n",
       "9     88.278550\n",
       "10    87.066465\n",
       "11    83.151057\n",
       "12    99.745619\n",
       "dtype: float64"
      ]
     },
     "execution_count": 34,
     "metadata": {},
     "output_type": "execute_result"
    }
   ],
   "source": [
    "model_loaded.predict(x)"
   ]
  },
  {
   "cell_type": "code",
   "execution_count": 39,
   "id": "c9daa15c",
   "metadata": {},
   "outputs": [],
   "source": [
    "y_test = df_test['score']\n",
    "x_test = df_test[['hours', 'exams']]\n",
    "\n",
    "#add constant to predictor variables\n",
    "x_test = sm.add_constant(x_test)"
   ]
  },
  {
   "cell_type": "code",
   "execution_count": 40,
   "id": "213f443e",
   "metadata": {},
   "outputs": [
    {
     "data": {
      "text/plain": [
       "0    75.320242\n",
       "1    78.023565\n",
       "dtype: float64"
      ]
     },
     "execution_count": 40,
     "metadata": {},
     "output_type": "execute_result"
    }
   ],
   "source": [
    "model_loaded.predict(x_test)"
   ]
  },
  {
   "cell_type": "code",
   "execution_count": 41,
   "id": "fbf0c3e5",
   "metadata": {},
   "outputs": [
    {
     "data": {
      "text/html": [
       "<div>\n",
       "<style scoped>\n",
       "    .dataframe tbody tr th:only-of-type {\n",
       "        vertical-align: middle;\n",
       "    }\n",
       "\n",
       "    .dataframe tbody tr th {\n",
       "        vertical-align: top;\n",
       "    }\n",
       "\n",
       "    .dataframe thead th {\n",
       "        text-align: right;\n",
       "    }\n",
       "</style>\n",
       "<table border=\"1\" class=\"dataframe\">\n",
       "  <thead>\n",
       "    <tr style=\"text-align: right;\">\n",
       "      <th></th>\n",
       "      <th>const</th>\n",
       "      <th>hours</th>\n",
       "      <th>exams</th>\n",
       "    </tr>\n",
       "  </thead>\n",
       "  <tbody>\n",
       "    <tr>\n",
       "      <th>0</th>\n",
       "      <td>1.0</td>\n",
       "      <td>1</td>\n",
       "      <td>1</td>\n",
       "    </tr>\n",
       "    <tr>\n",
       "      <th>1</th>\n",
       "      <td>1.0</td>\n",
       "      <td>2</td>\n",
       "      <td>3</td>\n",
       "    </tr>\n",
       "  </tbody>\n",
       "</table>\n",
       "</div>"
      ],
      "text/plain": [
       "   const  hours  exams\n",
       "0    1.0      1      1\n",
       "1    1.0      2      3"
      ]
     },
     "execution_count": 41,
     "metadata": {},
     "output_type": "execute_result"
    }
   ],
   "source": [
    "x_test"
   ]
  },
  {
   "cell_type": "code",
   "execution_count": null,
   "id": "0573766d",
   "metadata": {},
   "outputs": [],
   "source": [
    "statsmodels.api.OLS"
   ]
  },
  {
   "cell_type": "code",
   "execution_count": null,
   "id": "81b03624",
   "metadata": {},
   "outputs": [],
   "source": []
  }
 ],
 "metadata": {
  "kernelspec": {
   "display_name": "Python 3 (ipykernel)",
   "language": "python",
   "name": "python3"
  },
  "language_info": {
   "codemirror_mode": {
    "name": "ipython",
    "version": 3
   },
   "file_extension": ".py",
   "mimetype": "text/x-python",
   "name": "python",
   "nbconvert_exporter": "python",
   "pygments_lexer": "ipython3",
   "version": "3.10.6"
  }
 },
 "nbformat": 4,
 "nbformat_minor": 5
}
